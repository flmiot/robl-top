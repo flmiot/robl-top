{
 "cells": [
  {
   "cell_type": "markdown",
   "metadata": {},
   "source": [
    "# FDMNES \"01_calc_radii\"\n",
    "\n",
    "This script is part of a collection of Jupyer notebooks for fdmnes.  \n",
    "\n",
    "**For a given structure in XYZ format, calculate a set of inter-atomic distances to be tried during radius convergence check.**\n",
    "\n",
    "Usage: \n",
    "\n",
    " -  Use VESTA (or another software) to create XYZ structure from CIF file. Include a few unit cells in each direction.\n",
    " -  Adapt this notebook. Set:\n",
    "    -  filepath of XYZ file (1)\n",
    "    -  absorbing atom (2)\n",
    "    -  min_distance and max_distance (inter-atomic distances) (3)\n",
    "    -  number N of desired intervals (4) - Will choose the N largest space-dividing intervals"
   ]
  },
  {
   "cell_type": "markdown",
   "metadata": {},
   "source": [
    "## Functions"
   ]
  },
  {
   "cell_type": "code",
   "execution_count": 2,
   "metadata": {},
   "outputs": [],
   "source": [
    "import re\n",
    "import numpy as np\n",
    "import json\n",
    "import os\n",
    "import matplotlib.pyplot as plt\n",
    "%matplotlib widget\n",
    "\n",
    "def read_atoms(filename):\n",
    "    atoms = []\n",
    "    \n",
    "    pattern = r'(\\w+)\\s+([+-]?\\d+\\.?\\d*)\\s+([+-]?\\d+\\.?\\d*)\\s+([+-]?\\d+\\.?\\d*)'\n",
    "#     pattern = r'\\|\\s*\\d+>\\s+(\\w{1,2})\\s+([+-]?\\d+\\.\\d+)\\s+([+-]?\\d+\\.\\d+)\\s+([+-]?\\d+\\.\\d+)'\n",
    "    with open(filename, 'r') as file:\n",
    "        for line in file.readlines():\n",
    "            m = re.search(pattern, line)\n",
    "            \n",
    "            if m:\n",
    "                name, x, y, z = m.groups()\n",
    "                atoms.append([name, (float(x), float(y), float(z))])     \n",
    "                \n",
    "    return dict(zip(range(len(atoms)), atoms))\n",
    "                \n",
    "\n",
    "def get_distances(atom, atoms):\n",
    "    \"\"\" Compute the distance from *atom* to all atoms in dict *atoms* \"\"\"\n",
    "    \n",
    "    distances = []\n",
    "    for idx in range(len(atoms)):\n",
    "        a = atoms[idx]\n",
    "        distances.append(np.sqrt(np.sum([(v-k)**2 for v, k in zip(atom[1], a[1])])))\n",
    "        \n",
    "    return distances\n",
    "        \n",
    "    \n",
    "def find_neighbors(atom, atoms, max_distance, exclude_elements = []):\n",
    "    \"\"\" Find neighbors in the vicinity of *atom* and return them as dict. \"\"\"\n",
    "    \n",
    "    distances = get_distances(atom, atoms)\n",
    "    \n",
    "    # Filter by distance\n",
    "    neighbor_idx = [i for i in range(len(atoms)) if distances[i] <= max_distance]\n",
    "    \n",
    "    # Filter by elements\n",
    "    neighbor_idx = [idx for idx in neighbor_idx if atoms[idx][0] not in exclude_elements]\n",
    "    \n",
    "    \n",
    "    \n",
    "    return dict([(idx, atoms[idx]) for idx in neighbor_idx])\n",
    "\n",
    "\n",
    "def get_fragment(atom, atoms, max_distance, exclude_elements = [], parent_fragment = {}):\n",
    "    \"\"\" Recursively add atoms to a fragment dict based on *max_distance* and  \n",
    "        *exclude_elements* until no new atoms are found. Start from *atom*.\n",
    "    \"\"\"\n",
    "    \n",
    "    neighbors = find_neighbors(atom, atoms, max_distance, exclude_elements)\n",
    "    \n",
    "    fragment = {}\n",
    "    \n",
    "    for idx, neighbor in neighbors.items():\n",
    "        \n",
    "        if idx in {**parent_fragment, **fragment}.keys():\n",
    "            continue\n",
    "        else:\n",
    "            fragment[idx] = neighbor\n",
    "        \n",
    "        if neighbor[0] != 'H':\n",
    "            # We came here somehow. H should only be allowed to have one bonding partner.\n",
    "            sub_neighbors = get_fragment(neighbor, atoms, max_distance, exclude_elements, {**fragment, **parent_fragment})\n",
    "            fragment = {**fragment, **sub_neighbors}\n",
    "    \n",
    "    return fragment\n",
    "    "
   ]
  },
  {
   "cell_type": "markdown",
   "metadata": {},
   "source": [
    "## Calculate radii\n",
    "\n",
    "Set filepath **(1)**"
   ]
  },
  {
   "cell_type": "code",
   "execution_count": 4,
   "metadata": {},
   "outputs": [],
   "source": [
    "# Read all atoms from XYZ file\n",
    "base = r'/home/esrf/USERNAME/fdmnes/u-1/kuo3'\n",
    "atoms = read_atoms(os.path.join(base, '71241.xyz'))"
   ]
  },
  {
   "cell_type": "markdown",
   "metadata": {},
   "source": [
    "Set absorbing atom **(2)**"
   ]
  },
  {
   "cell_type": "code",
   "execution_count": 5,
   "metadata": {},
   "outputs": [],
   "source": [
    "# Compute all distances from all atoms of absorbing species\n",
    "absorber = 'O'  \n",
    "distances = []\n",
    "for element, coords in atoms.values():\n",
    "    if element != absorber:\n",
    "        continue\n",
    "        \n",
    "    distances.extend( get_distances((element, coords), atoms) )\n",
    "        \n",
    "# Round to decimals\n",
    "distances = np.round(distances, 1)\n",
    "\n",
    "# Compute unique distances\n",
    "distances = np.unique(distances)"
   ]
  },
  {
   "cell_type": "markdown",
   "metadata": {},
   "source": [
    "Set min and max distance **(3)**"
   ]
  },
  {
   "cell_type": "code",
   "execution_count": 6,
   "metadata": {},
   "outputs": [],
   "source": [
    "# Return all distances between min_distance and max_distance\n",
    "min_distance = 0.25\n",
    "max_distance = 10\n",
    "distances = [d for d in distances if d <= max_distance and d >= min_distance]"
   ]
  },
  {
   "cell_type": "markdown",
   "metadata": {},
   "source": [
    "Set number of desired intervals **(4)**"
   ]
  },
  {
   "cell_type": "code",
   "execution_count": 7,
   "metadata": {},
   "outputs": [],
   "source": [
    "intervals = 15\n",
    "bins = np.diff(distances)/2 + distances[:-1]\n",
    "gaps = np.argsort(np.diff(distances))\n",
    "bins = bins[gaps][::-1][:intervals]\n",
    "bins = sorted(bins.tolist())\n",
    "bins.append(max_distance)"
   ]
  },
  {
   "cell_type": "markdown",
   "metadata": {},
   "source": [
    "Plot the results and print the intervals"
   ]
  },
  {
   "cell_type": "code",
   "execution_count": 8,
   "metadata": {},
   "outputs": [
    {
     "data": {
      "application/vnd.jupyter.widget-view+json": {
       "model_id": "18d23fae2327441c9ba3601e7a48dac8",
       "version_major": 2,
       "version_minor": 0
      },
      "text/plain": [
       "Canvas(toolbar=Toolbar(toolitems=[('Home', 'Reset original view', 'home', 'home'), ('Back', 'Back to previous …"
      ]
     },
     "metadata": {},
     "output_type": "display_data"
    },
    {
     "name": "stdout",
     "output_type": "stream",
     "text": [
      "[2.55, 3.65, 4.55, 5.05, 5.699999999999999, 6.25, 6.6, 7.1, 7.550000000000001, 7.85, 8.3, 8.75, 9.0, 9.35, 9.7, 10]\n"
     ]
    }
   ],
   "source": [
    "plt.figure()\n",
    "plt.bar(distances, np.ones(len(distances)), width = 0.01)\n",
    "plt.bar(bins, np.ones(len(bins))*1.2, width = 0.05, color = 'r')\n",
    "print(bins)"
   ]
  },
  {
   "cell_type": "code",
   "execution_count": null,
   "metadata": {},
   "outputs": [],
   "source": []
  }
 ],
 "metadata": {
  "kernelspec": {
   "display_name": "Python 3",
   "language": "python",
   "name": "python3"
  },
  "language_info": {
   "codemirror_mode": {
    "name": "ipython",
    "version": 3
   },
   "file_extension": ".py",
   "mimetype": "text/x-python",
   "name": "python",
   "nbconvert_exporter": "python",
   "pygments_lexer": "ipython3",
   "version": "3.8.10"
  }
 },
 "nbformat": 4,
 "nbformat_minor": 4
}
