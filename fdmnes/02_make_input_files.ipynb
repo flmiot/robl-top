{
 "cells": [
  {
   "cell_type": "markdown",
   "metadata": {},
   "source": [
    "# FDMNES \"02_make_input_files\"\n",
    "\n",
    "This script is part of a collection of Jupyer notebooks for fdmnes.  \n",
    "\n",
    "**For a given set of inter-atomic distances, create FDMNES input files based on a template.**\n",
    "\n",
    "Usage: \n",
    "\n",
    " -  Use VESTA (or another software) to create XYZ structure from CIF file. Include a few unit cells in each direction.\n",
    " -  Adapt this notebook. Set:\n",
    "    -  filepath of XYZ file (1)\n",
    "    -  absorbing atom (2)\n",
    "    -  min_distance and max_distance (inter-atomic distances) (3)\n",
    "    -  number N of desired intervals (4) - Will choose the N largest space-dividing intervals"
   ]
  },
  {
   "cell_type": "markdown",
   "metadata": {},
   "source": [
    "## Functions"
   ]
  },
  {
   "cell_type": "code",
   "execution_count": 9,
   "metadata": {},
   "outputs": [],
   "source": [
    "import os"
   ]
  },
  {
   "cell_type": "code",
   "execution_count": 17,
   "metadata": {},
   "outputs": [],
   "source": [
    "template = \"\"\"Filout\n",
    "$FILEOUT$\n",
    "\n",
    "Range\n",
    " -60 .2 10\n",
    "\n",
    " SCF\n",
    "\n",
    " XES\n",
    " \n",
    " Density\n",
    " Quadrupole\n",
    " Relativism\n",
    " \n",
    " Memory_save\n",
    "\n",
    " Edge\n",
    "  L3\n",
    "\n",
    " Radius\n",
    "  $RADIUS$\n",
    "\n",
    " Z_absorber\n",
    "  92\n",
    "\n",
    " All_conv\n",
    "\n",
    " Cif_file\n",
    " $CIF_FILE$\n",
    "\n",
    " Eimag\n",
    "  0.1\n",
    " \n",
    " End\n",
    "\"\"\""
   ]
  },
  {
   "cell_type": "markdown",
   "metadata": {},
   "source": [
    "# RbUO3"
   ]
  },
  {
   "cell_type": "code",
   "execution_count": 18,
   "metadata": {},
   "outputs": [],
   "source": [
    "base = r'/home/esrf/florian1b/fdmnes/u-3/rbuo3/radius_fdm'\n",
    "cif_file = r'/home/esrf/florian1b/fdmnes/u-3/rbuo3/99548.cif'\n",
    "paths = []\n",
    "radii = [2.65, 3.7, 4.55, 5.05, 5.7, 6.3, 6.65, 7.15, 7.65, 7.95, 8.35, 8.75, 9.05, 9.45, 9.8, 10]\n",
    "\n",
    "for radius in radii:\n",
    "    try:\n",
    "        os.mkdir(os.path.join(base, f'radius_{radius}'))\n",
    "    except FileExistsError as e:\n",
    "        pass\n",
    "    \n",
    "    s = template\n",
    "    s = s.replace(\"$RADIUS$\", f'{radius}')\n",
    "    s = s.replace(\"$FILEOUT$\", os.path.join(f'radius_{radius}', f'out_{radius}'))\n",
    "    s = s.replace(\"$CIF_FILE$\", f'{cif_file}')\n",
    "    \n",
    "    with open(os.path.join(base, f'radius_{radius}', f'input_{radius}.txt'), 'w') as file:\n",
    "        file.write(s)\n",
    "        \n",
    "    paths.append(f'radius_{radius}/input_{radius}.txt')\n",
    "    \n",
    "s = [f' {len(paths)}']\n",
    "s.extend(paths)\n",
    "\n",
    "with open(os.path.join(base, 'fdmfile.txt'), 'w') as file:\n",
    "    file.write('\\n'.join(s))   "
   ]
  },
  {
   "cell_type": "markdown",
   "metadata": {},
   "source": [
    "# KUO3"
   ]
  },
  {
   "cell_type": "code",
   "execution_count": 19,
   "metadata": {},
   "outputs": [],
   "source": [
    "base = r'/home/esrf/florian1b/fdmnes/u-3/kuo3/radius_fdm'\n",
    "cif_file = r'/home/esrf/florian1b/fdmnes/u-3/kuo3/71241.cif'\n",
    "paths = []\n",
    "radii = [2.55, 3.65, 4.55, 5.05, 5.7, 6.25, 6.6, 7.1, 7.55, 7.85, 8.3, 8.75, 9.0, 9.35, 9.7, 10]\n",
    "\n",
    "for radius in radii:\n",
    "    try:\n",
    "        os.mkdir(os.path.join(base, f'radius_{radius}'))\n",
    "    except FileExistsError as e:\n",
    "        pass\n",
    "    \n",
    "    s = template\n",
    "    s = s.replace(\"$RADIUS$\", f'{radius}')\n",
    "    s = s.replace(\"$FILEOUT$\", os.path.join(f'radius_{radius}', f'out_{radius}'))\n",
    "    s = s.replace(\"$CIF_FILE$\", f'{cif_file}')\n",
    "    \n",
    "    with open(os.path.join(base, f'radius_{radius}', f'input_{radius}.txt'), 'w') as file:\n",
    "        file.write(s)\n",
    "        \n",
    "    paths.append(f'radius_{radius}/input_{radius}.txt')\n",
    "    \n",
    "s = [f' {len(paths)}']\n",
    "s.extend(paths)\n",
    "\n",
    "with open(os.path.join(base, 'fdmfile.txt'), 'w') as file:\n",
    "    file.write('\\n'.join(s))   "
   ]
  },
  {
   "cell_type": "markdown",
   "metadata": {},
   "source": [
    "# NaUO3"
   ]
  },
  {
   "cell_type": "code",
   "execution_count": 20,
   "metadata": {},
   "outputs": [],
   "source": [
    "base = r'/home/esrf/florian1b/fdmnes/u-3/nauo3/radius_fdm'\n",
    "cif_file = r'/home/esrf/florian1b/fdmnes/u-3/nauo3/99549.cif'\n",
    "paths = []\n",
    "radii = [2.3, 2.5, 2.75, 3.2, 3.5, 3.8, 4.1, 5.2, 5.5, 6.6, 7.85, 8.25, 8.75, 9.25, 9.75, 10]\n",
    "\n",
    "\n",
    "for radius in radii:\n",
    "    try:\n",
    "        os.mkdir(os.path.join(base, f'radius_{radius}'))\n",
    "    except FileExistsError as e:\n",
    "        pass\n",
    "    \n",
    "    s = template\n",
    "    s = s.replace(\"$RADIUS$\", f'{radius}')\n",
    "    s = s.replace(\"$FILEOUT$\", os.path.join(f'radius_{radius}', f'out_{radius}'))\n",
    "    s = s.replace(\"$CIF_FILE$\", f'{cif_file}')\n",
    "    \n",
    "    with open(os.path.join(base, f'radius_{radius}', f'input_{radius}.txt'), 'w') as file:\n",
    "        file.write(s)\n",
    "        \n",
    "    paths.append(f'radius_{radius}/input_{radius}.txt')\n",
    "    \n",
    "s = [f' {len(paths)}']\n",
    "s.extend(paths)\n",
    "\n",
    "with open(os.path.join(base, 'fdmfile.txt'), 'w') as file:\n",
    "    file.write('\\n'.join(s))   "
   ]
  },
  {
   "cell_type": "markdown",
   "metadata": {},
   "source": [
    "# BaUO4"
   ]
  },
  {
   "cell_type": "code",
   "execution_count": 21,
   "metadata": {},
   "outputs": [],
   "source": [
    "base = r'/home/esrf/florian1b/fdmnes/u-3/bauo4/radius_fdm'\n",
    "cif_file = r'/home/esrf/florian1b/fdmnes/u-3/bauo4/BaUO4.cif'\n",
    "paths = []\n",
    "radii = [2.05, 2.45, 3.4, 3.6, 3.8, 4.85, 6.3, 6.65, 6.85, 7.15, 7.35, 8.25, 8.75, 9.25, 9.75, 10]\n",
    "\n",
    "for radius in radii:\n",
    "    try:\n",
    "        os.mkdir(os.path.join(base, f'radius_{radius}'))\n",
    "    except FileExistsError as e:\n",
    "        pass\n",
    "    \n",
    "    s = template\n",
    "    s = s.replace(\"$RADIUS$\", f'{radius}')\n",
    "    s = s.replace(\"$FILEOUT$\", os.path.join(f'radius_{radius}', f'out_{radius}'))\n",
    "    s = s.replace(\"$CIF_FILE$\", f'{cif_file}')\n",
    "    \n",
    "    with open(os.path.join(base, f'radius_{radius}', f'input_{radius}.txt'), 'w') as file:\n",
    "        file.write(s)\n",
    "        \n",
    "    paths.append(f'radius_{radius}/input_{radius}.txt')\n",
    "    \n",
    "s = [f' {len(paths)}']\n",
    "s.extend(paths)\n",
    "\n",
    "with open(os.path.join(base, 'fdmfile.txt'), 'w') as file:\n",
    "    file.write('\\n'.join(s))   "
   ]
  },
  {
   "cell_type": "markdown",
   "metadata": {},
   "source": [
    "# UO2"
   ]
  },
  {
   "cell_type": "code",
   "execution_count": 22,
   "metadata": {},
   "outputs": [],
   "source": [
    "base = r'/home/esrf/florian1b/fdmnes/u-3/uo2/radius_fdm'\n",
    "cif_file = r'/home/esrf/florian1b/fdmnes/u-3/uo2/246851.cif'\n",
    "paths = []\n",
    "radii = [2.55, 3.3, 4.2, 4.6, 5.1, 5.75, 6.05, 6.4, 6.9, 7.4, 7.9, 8.4, 8.8, 9.3, 9.65, 10]\n",
    "\n",
    "for radius in radii:\n",
    "    try:\n",
    "        os.mkdir(os.path.join(base, f'radius_{radius}'))\n",
    "    except FileExistsError as e:\n",
    "        pass\n",
    "    \n",
    "    s = template\n",
    "    s = s.replace(\"$RADIUS$\", f'{radius}')\n",
    "    s = s.replace(\"$FILEOUT$\", os.path.join(f'radius_{radius}', f'out_{radius}'))\n",
    "    s = s.replace(\"$CIF_FILE$\", f'{cif_file}')\n",
    "    \n",
    "    with open(os.path.join(base, f'radius_{radius}', f'input_{radius}.txt'), 'w') as file:\n",
    "        file.write(s)\n",
    "        \n",
    "    paths.append(f'radius_{radius}/input_{radius}.txt')\n",
    "    \n",
    "s = [f' {len(paths)}']\n",
    "s.extend(paths)\n",
    "\n",
    "with open(os.path.join(base, 'fdmfile.txt'), 'w') as file:\n",
    "    file.write('\\n'.join(s))   "
   ]
  },
  {
   "cell_type": "markdown",
   "metadata": {},
   "source": [
    "# UO3"
   ]
  },
  {
   "cell_type": "code",
   "execution_count": 23,
   "metadata": {},
   "outputs": [],
   "source": [
    "base = r'/home/esrf/florian1b/fdmnes/u-3/uo3/radius_fdm'\n",
    "cif_file = r'/home/esrf/florian1b/fdmnes/u-3/uo3/15567.cif'\n",
    "paths = []\n",
    "radii = [2.4, 2.85, 3.2, 3.7, 4.35, 4.9, 5.1, 5.45, 5.8, 6.7, 7.0, 7.6, 8.7, 9.1, 9.7, 10]\n",
    "\n",
    "for radius in radii:\n",
    "    try:\n",
    "        os.mkdir(os.path.join(base, f'radius_{radius}'))\n",
    "    except FileExistsError as e:\n",
    "        pass\n",
    "    \n",
    "    s = template\n",
    "    s = s.replace(\"$RADIUS$\", f'{radius}')\n",
    "    s = s.replace(\"$FILEOUT$\", os.path.join(f'radius_{radius}', f'out_{radius}'))\n",
    "    s = s.replace(\"$CIF_FILE$\", f'{cif_file}')\n",
    "    \n",
    "    with open(os.path.join(base, f'radius_{radius}', f'input_{radius}.txt'), 'w') as file:\n",
    "        file.write(s)\n",
    "        \n",
    "    paths.append(f'radius_{radius}/input_{radius}.txt')\n",
    "    \n",
    "s = [f' {len(paths)}']\n",
    "s.extend(paths)\n",
    "\n",
    "with open(os.path.join(base, 'fdmfile.txt'), 'w') as file:\n",
    "    file.write('\\n'.join(s))   "
   ]
  },
  {
   "cell_type": "code",
   "execution_count": null,
   "metadata": {},
   "outputs": [],
   "source": []
  }
 ],
 "metadata": {
  "kernelspec": {
   "display_name": "Python 3",
   "language": "python",
   "name": "python3"
  },
  "language_info": {
   "codemirror_mode": {
    "name": "ipython",
    "version": 3
   },
   "file_extension": ".py",
   "mimetype": "text/x-python",
   "name": "python",
   "nbconvert_exporter": "python",
   "pygments_lexer": "ipython3",
   "version": "3.8.10"
  }
 },
 "nbformat": 4,
 "nbformat_minor": 4
}
