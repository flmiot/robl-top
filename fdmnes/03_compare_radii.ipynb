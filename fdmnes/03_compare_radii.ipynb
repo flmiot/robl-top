{
 "cells": [
  {
   "cell_type": "code",
   "execution_count": 22,
   "metadata": {},
   "outputs": [],
   "source": [
    "%matplotlib widget\n",
    "import os\n",
    "import sys\n",
    "import matplotlib.pyplot as plt\n",
    "import re\n",
    "import numpy as np\n",
    "import matplotlib.cm as cm"
   ]
  },
  {
   "cell_type": "code",
   "execution_count": 23,
   "metadata": {},
   "outputs": [],
   "source": [
    "def get_xanes(filename, absolute_energy = False):\n",
    "    x, y = np.loadtxt(filename, skiprows = 2).T\n",
    "    \n",
    "    if absolute_energy:\n",
    "        with open(filename, 'r') as file:\n",
    "            l =  file.readline()\n",
    "            m = re.search(r'(\\d+\\.\\d+)', l)\n",
    "            edge = float(m.groups()[0])\n",
    "            x = x + edge\n",
    "            \n",
    "    return x, y\n",
    "\n",
    "def inspect_radii(base):\n",
    "    folders = [element for element in sorted(os.listdir(base)) if 'radius' in element]\n",
    "    data = []\n",
    "    radii = []\n",
    "    for folder in folders:\n",
    "        radius = folder.replace('radius_', '')\n",
    "        radii.append(radius)\n",
    "        files = sorted(os.listdir(os.path.join(base, folder)))\n",
    "        outfiles = []\n",
    "        for file in files:\n",
    "            pattern = f'out_{radius}'.replace('.', '\\.').replace('_', '\\_') + r'\\_?\\d*?.*\\_conv\\.txt'\n",
    "            m = re.match(pattern , file)\n",
    "            if m:\n",
    "                outfiles.append(file)\n",
    "        \n",
    "#         fmt = f'Found {len(outfiles)} out-files for non-equivalent absorbers.'\n",
    "#         print(fmt)\n",
    "\n",
    "        data.append([])\n",
    "        for outfile in outfiles:\n",
    "            x, y = get_xanes(os.path.join(base, folder, outfile))\n",
    "            data[-1].append([x, y])        \n",
    "\n",
    "    fig, ax = plt.subplots()\n",
    "    offset = .01\n",
    "    colors = cm.magma(np.linspace(0,0.8,len(data)))\n",
    "    ls = ['-', '--', ':', 'dashdot']\n",
    "    for idx, d in enumerate(data):\n",
    "        if len(d) < 1:\n",
    "            continue\n",
    "        for k, (x, y) in enumerate(d):\n",
    "            y = y + idx*offset\n",
    "            ax.plot(x, y, color = colors[idx], ls = ls[k])\n",
    "        ax.annotate(xy = (x[-1], y[-1]), s = f'  {radii[idx]}A', va = 'center', color = colors[idx], ha = 'left')"
   ]
  },
  {
   "cell_type": "markdown",
   "metadata": {},
   "source": [
    "# KUO3"
   ]
  },
  {
   "cell_type": "code",
   "execution_count": 38,
   "metadata": {},
   "outputs": [
    {
     "data": {
      "application/vnd.jupyter.widget-view+json": {
       "model_id": "4e7f7f4fd8444b02900167786323c125",
       "version_major": 2,
       "version_minor": 0
      },
      "text/plain": [
       "Canvas(toolbar=Toolbar(toolitems=[('Home', 'Reset original view', 'home', 'home'), ('Back', 'Back to previous …"
      ]
     },
     "metadata": {},
     "output_type": "display_data"
    }
   ],
   "source": [
    "base = r'/home/esrf/florian1b/fdmnes/u-3/kuo3/radius'\n",
    "inspect_radii(base)"
   ]
  },
  {
   "cell_type": "code",
   "execution_count": 25,
   "metadata": {},
   "outputs": [
    {
     "data": {
      "application/vnd.jupyter.widget-view+json": {
       "model_id": "3e0db15adb86473cb6542f426e66cf0d",
       "version_major": 2,
       "version_minor": 0
      },
      "text/plain": [
       "Canvas(toolbar=Toolbar(toolitems=[('Home', 'Reset original view', 'home', 'home'), ('Back', 'Back to previous …"
      ]
     },
     "metadata": {},
     "output_type": "display_data"
    },
    {
     "data": {
      "text/plain": [
       "(-40, 10)"
      ]
     },
     "execution_count": 25,
     "metadata": {},
     "output_type": "execute_result"
    }
   ],
   "source": [
    "base = r'/home/esrf/florian1b/fdmnes/u-2/kuo3/radius'\n",
    "inspect_radii(base)\n",
    "plt.xlim([-40, 10])"
   ]
  },
  {
   "cell_type": "code",
   "execution_count": 26,
   "metadata": {},
   "outputs": [
    {
     "data": {
      "application/vnd.jupyter.widget-view+json": {
       "model_id": "1f64be1117d340a691fcc4f76c102278",
       "version_major": 2,
       "version_minor": 0
      },
      "text/plain": [
       "Canvas(toolbar=Toolbar(toolitems=[('Home', 'Reset original view', 'home', 'home'), ('Back', 'Back to previous …"
      ]
     },
     "metadata": {},
     "output_type": "display_data"
    }
   ],
   "source": [
    "base = r'/home/esrf/florian1b/fdmnes/u-2/kuo3/radius_fdm'\n",
    "inspect_radii(base)"
   ]
  },
  {
   "cell_type": "markdown",
   "metadata": {},
   "source": [
    "# RbO3"
   ]
  },
  {
   "cell_type": "code",
   "execution_count": 27,
   "metadata": {},
   "outputs": [
    {
     "data": {
      "application/vnd.jupyter.widget-view+json": {
       "model_id": "f5d124db25d349e8825bf7ae4e6d9b03",
       "version_major": 2,
       "version_minor": 0
      },
      "text/plain": [
       "Canvas(toolbar=Toolbar(toolitems=[('Home', 'Reset original view', 'home', 'home'), ('Back', 'Back to previous …"
      ]
     },
     "metadata": {},
     "output_type": "display_data"
    }
   ],
   "source": [
    "base = r'/home/esrf/florian1b/fdmnes/u-2/rbuo3/radius'\n",
    "inspect_radii(base)"
   ]
  },
  {
   "cell_type": "code",
   "execution_count": 37,
   "metadata": {},
   "outputs": [
    {
     "data": {
      "application/vnd.jupyter.widget-view+json": {
       "model_id": "18f077b086db4c0eaaac2fc488e16dca",
       "version_major": 2,
       "version_minor": 0
      },
      "text/plain": [
       "Canvas(toolbar=Toolbar(toolitems=[('Home', 'Reset original view', 'home', 'home'), ('Back', 'Back to previous …"
      ]
     },
     "metadata": {},
     "output_type": "display_data"
    }
   ],
   "source": [
    "base = r'/home/esrf/florian1b/fdmnes/u-3/rbuo3/radius'\n",
    "inspect_radii(base)"
   ]
  },
  {
   "cell_type": "code",
   "execution_count": 28,
   "metadata": {},
   "outputs": [
    {
     "data": {
      "application/vnd.jupyter.widget-view+json": {
       "model_id": "6cc6535f3acb40daa6f40506ed806953",
       "version_major": 2,
       "version_minor": 0
      },
      "text/plain": [
       "Canvas(toolbar=Toolbar(toolitems=[('Home', 'Reset original view', 'home', 'home'), ('Back', 'Back to previous …"
      ]
     },
     "metadata": {},
     "output_type": "display_data"
    }
   ],
   "source": [
    "base = r'/home/esrf/florian1b/fdmnes/u-2/rbuo3/radius_fdm'\n",
    "inspect_radii(base)"
   ]
  },
  {
   "cell_type": "markdown",
   "metadata": {},
   "source": [
    "# NaUO3"
   ]
  },
  {
   "cell_type": "code",
   "execution_count": 35,
   "metadata": {},
   "outputs": [
    {
     "data": {
      "application/vnd.jupyter.widget-view+json": {
       "model_id": "4911dc1aed1247c69491e89d48bf8a77",
       "version_major": 2,
       "version_minor": 0
      },
      "text/plain": [
       "Canvas(toolbar=Toolbar(toolitems=[('Home', 'Reset original view', 'home', 'home'), ('Back', 'Back to previous …"
      ]
     },
     "metadata": {},
     "output_type": "display_data"
    }
   ],
   "source": [
    "base = r'/home/esrf/florian1b/fdmnes/u-2/nauo3/radius'\n",
    "inspect_radii(base)"
   ]
  },
  {
   "cell_type": "code",
   "execution_count": 36,
   "metadata": {},
   "outputs": [
    {
     "data": {
      "application/vnd.jupyter.widget-view+json": {
       "model_id": "6753af3ebd9d40ff820eb2773e1a7c00",
       "version_major": 2,
       "version_minor": 0
      },
      "text/plain": [
       "Canvas(toolbar=Toolbar(toolitems=[('Home', 'Reset original view', 'home', 'home'), ('Back', 'Back to previous …"
      ]
     },
     "metadata": {},
     "output_type": "display_data"
    }
   ],
   "source": [
    "base = r'/home/esrf/florian1b/fdmnes/u-3/nauo3/radius'\n",
    "inspect_radii(base)"
   ]
  },
  {
   "cell_type": "code",
   "execution_count": 10,
   "metadata": {},
   "outputs": [
    {
     "data": {
      "application/vnd.jupyter.widget-view+json": {
       "model_id": "34a9484cd602453daf6cde39b2956738",
       "version_major": 2,
       "version_minor": 0
      },
      "text/plain": [
       "Canvas(toolbar=Toolbar(toolitems=[('Home', 'Reset original view', 'home', 'home'), ('Back', 'Back to previous …"
      ]
     },
     "metadata": {},
     "output_type": "display_data"
    }
   ],
   "source": [
    "base = r'/home/esrf/florian1b/fdmnes/u-2/nauo3/radius_fdm'\n",
    "inspect_radii(base)"
   ]
  },
  {
   "cell_type": "markdown",
   "metadata": {},
   "source": [
    "# BaUO4"
   ]
  },
  {
   "cell_type": "code",
   "execution_count": 33,
   "metadata": {},
   "outputs": [
    {
     "data": {
      "application/vnd.jupyter.widget-view+json": {
       "model_id": "738519d2bc144eb99ae10099c2d3baed",
       "version_major": 2,
       "version_minor": 0
      },
      "text/plain": [
       "Canvas(toolbar=Toolbar(toolitems=[('Home', 'Reset original view', 'home', 'home'), ('Back', 'Back to previous …"
      ]
     },
     "metadata": {},
     "output_type": "display_data"
    }
   ],
   "source": [
    "base = r'/home/esrf/florian1b/fdmnes/u-2/bauo4/radius'\n",
    "inspect_radii(base)"
   ]
  },
  {
   "cell_type": "code",
   "execution_count": 34,
   "metadata": {},
   "outputs": [
    {
     "data": {
      "application/vnd.jupyter.widget-view+json": {
       "model_id": "c2bde22d1cee43ea9dcfb503aec655be",
       "version_major": 2,
       "version_minor": 0
      },
      "text/plain": [
       "Canvas(toolbar=Toolbar(toolitems=[('Home', 'Reset original view', 'home', 'home'), ('Back', 'Back to previous …"
      ]
     },
     "metadata": {},
     "output_type": "display_data"
    }
   ],
   "source": [
    "base = r'/home/esrf/florian1b/fdmnes/u-3/bauo4/radius'\n",
    "inspect_radii(base)"
   ]
  },
  {
   "cell_type": "code",
   "execution_count": 12,
   "metadata": {},
   "outputs": [
    {
     "data": {
      "application/vnd.jupyter.widget-view+json": {
       "model_id": "6ec8a6ddc34f4b09b009251c7711addf",
       "version_major": 2,
       "version_minor": 0
      },
      "text/plain": [
       "Canvas(toolbar=Toolbar(toolitems=[('Home', 'Reset original view', 'home', 'home'), ('Back', 'Back to previous …"
      ]
     },
     "metadata": {},
     "output_type": "display_data"
    }
   ],
   "source": [
    "base = r'/home/esrf/florian1b/fdmnes/u-2/bauo4/radius_fdm'\n",
    "inspect_radii(base)"
   ]
  },
  {
   "cell_type": "markdown",
   "metadata": {},
   "source": [
    "# UO2"
   ]
  },
  {
   "cell_type": "code",
   "execution_count": 13,
   "metadata": {},
   "outputs": [
    {
     "data": {
      "application/vnd.jupyter.widget-view+json": {
       "model_id": "91d7a9ea4b5f41c1918151490c046970",
       "version_major": 2,
       "version_minor": 0
      },
      "text/plain": [
       "Canvas(toolbar=Toolbar(toolitems=[('Home', 'Reset original view', 'home', 'home'), ('Back', 'Back to previous …"
      ]
     },
     "metadata": {},
     "output_type": "display_data"
    }
   ],
   "source": [
    "base = r'/home/esrf/florian1b/fdmnes/u-2/uo2/radius'\n",
    "inspect_radii(base)"
   ]
  },
  {
   "cell_type": "code",
   "execution_count": 15,
   "metadata": {},
   "outputs": [
    {
     "data": {
      "application/vnd.jupyter.widget-view+json": {
       "model_id": "98f44bcd5fd24edd964ffc8fe16636dc",
       "version_major": 2,
       "version_minor": 0
      },
      "text/plain": [
       "Canvas(toolbar=Toolbar(toolitems=[('Home', 'Reset original view', 'home', 'home'), ('Back', 'Back to previous …"
      ]
     },
     "metadata": {},
     "output_type": "display_data"
    }
   ],
   "source": [
    "base = r'/home/esrf/florian1b/fdmnes/u-2/uo2/radius_fdm'\n",
    "inspect_radii(base)"
   ]
  },
  {
   "cell_type": "markdown",
   "metadata": {},
   "source": [
    "# UO3"
   ]
  },
  {
   "cell_type": "code",
   "execution_count": 14,
   "metadata": {},
   "outputs": [
    {
     "data": {
      "application/vnd.jupyter.widget-view+json": {
       "model_id": "258d7a63e623440d996c56132cc90ebe",
       "version_major": 2,
       "version_minor": 0
      },
      "text/plain": [
       "Canvas(toolbar=Toolbar(toolitems=[('Home', 'Reset original view', 'home', 'home'), ('Back', 'Back to previous …"
      ]
     },
     "metadata": {},
     "output_type": "display_data"
    }
   ],
   "source": [
    "base = r'/home/esrf/florian1b/fdmnes/u-2/uo3/radius'\n",
    "inspect_radii(base)"
   ]
  },
  {
   "cell_type": "code",
   "execution_count": 16,
   "metadata": {},
   "outputs": [
    {
     "data": {
      "application/vnd.jupyter.widget-view+json": {
       "model_id": "d04ec28467f3437db5ae755926134a33",
       "version_major": 2,
       "version_minor": 0
      },
      "text/plain": [
       "Canvas(toolbar=Toolbar(toolitems=[('Home', 'Reset original view', 'home', 'home'), ('Back', 'Back to previous …"
      ]
     },
     "metadata": {},
     "output_type": "display_data"
    }
   ],
   "source": [
    "base = r'/home/esrf/florian1b/fdmnes/u-2/uo3/radius_fdm'\n",
    "inspect_radii(base)"
   ]
  },
  {
   "cell_type": "code",
   "execution_count": null,
   "metadata": {},
   "outputs": [],
   "source": []
  }
 ],
 "metadata": {
  "kernelspec": {
   "display_name": "Python 3",
   "language": "python",
   "name": "python3"
  },
  "language_info": {
   "codemirror_mode": {
    "name": "ipython",
    "version": 3
   },
   "file_extension": ".py",
   "mimetype": "text/x-python",
   "name": "python",
   "nbconvert_exporter": "python",
   "pygments_lexer": "ipython3",
   "version": "3.8.10"
  }
 },
 "nbformat": 4,
 "nbformat_minor": 4
}
