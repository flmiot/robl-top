{
 "cells": [
  {
   "cell_type": "code",
   "execution_count": 1,
   "metadata": {},
   "outputs": [],
   "source": [
    "%matplotlib widget\n",
    "import os\n",
    "import sys\n",
    "import matplotlib.pyplot as plt\n",
    "import re\n",
    "import numpy as np\n",
    "import matplotlib.cm as cm\n",
    "\n",
    "def plot_calculation(filename, absolute_energy = False, shift_energy = 0, shift_y = 0, axis = None, **mpl_kw):\n",
    "    if axis is None:\n",
    "        fig, ax = plt.subplots()\n",
    "    else:\n",
    "        ax = axis\n",
    "        \n",
    "    x, y = np.loadtxt(filename, skiprows = 2).T\n",
    "    \n",
    "    if absolute_energy:\n",
    "        with open(filename, 'r') as file:\n",
    "            l =  file.readline()\n",
    "            m = re.search(r'(\\d+\\.\\d+)', l)\n",
    "            edge = float(m.groups()[0])\n",
    "            x = x + edge\n",
    "        \n",
    "    \n",
    "    ax.plot(x+shift_energy, y+shift_y, **mpl_kw)\n",
    "    \n",
    "def plot_calculation_2(filename, shift_energy = 0, shift_y = 0, axis = None, **mpl_kw):\n",
    "    if axis is None:\n",
    "        fig, ax = plt.subplots()\n",
    "    else:\n",
    "        ax = axis\n",
    "        \n",
    "    x, y = np.loadtxt(filename, skiprows = 1).T\n",
    "    ax.plot(x+shift_energy, y+shift_y, **mpl_kw)\n",
    "    \n",
    "def plot_dos(filename, cols, shift_x = 0, shift_y = 0, scale_y  = 1.0, axis = None, **mpl_kw):\n",
    "    if axis is None:\n",
    "        fig, ax = plt.subplots()\n",
    "    else:\n",
    "        ax = axis\n",
    "        \n",
    "    # Read header line for column indexing\n",
    "    with open(filename, 'r') as file:\n",
    "        header = re.findall(r'([A-Za-z0-9()-]+)', file.readline())\n",
    "        \n",
    "    indizes = np.array([header.index(c) for c in cols])        \n",
    "    energy, *data = np.loadtxt(filename, skiprows = 1).T[indizes]\n",
    "    \n",
    "    for idx, y in enumerate(data):\n",
    "        ax.plot(energy+shift_x, scale_y*y+shift_y, **mpl_kw, label = header[indizes[idx+1]] )\n",
    "    \n",
    "def plot_experiment(filename, scale = 1, axis = None, **mpl_kw):\n",
    "    if axis is None:\n",
    "        fig, ax = plt.subplots()\n",
    "    else:\n",
    "        ax = axis\n",
    "        \n",
    "    x, y, error = np.loadtxt(filename).T\n",
    "    ax.errorbar(x, scale*y, yerr = scale*error/2, **mpl_kw)"
   ]
  },
  {
   "cell_type": "markdown",
   "metadata": {},
   "source": [
    "# GREEN"
   ]
  },
  {
   "cell_type": "markdown",
   "metadata": {},
   "source": [
    "## KUO3"
   ]
  },
  {
   "cell_type": "code",
   "execution_count": 23,
   "metadata": {},
   "outputs": [
    {
     "name": "stderr",
     "output_type": "stream",
     "text": [
      "<ipython-input-23-add4cf70ee8f>:1: RuntimeWarning: More than 20 figures have been opened. Figures created through the pyplot interface (`matplotlib.pyplot.figure`) are retained until explicitly closed and may consume too much memory. (To control this warning, see the rcParam `figure.max_open_warning`).\n",
      "  fig, ax = plt.subplots()\n"
     ]
    },
    {
     "data": {
      "application/vnd.jupyter.widget-view+json": {
       "model_id": "30e330a4693a44cba758c083553f042a",
       "version_major": 2,
       "version_minor": 0
      },
      "text/plain": [
       "Canvas(toolbar=Toolbar(toolitems=[('Home', 'Reset original view', 'home', 'home'), ('Back', 'Back to previous …"
      ]
     },
     "metadata": {},
     "output_type": "display_data"
    },
    {
     "data": {
      "text/plain": [
       "<matplotlib.legend.Legend at 0x152865066a30>"
      ]
     },
     "execution_count": 23,
     "metadata": {},
     "output_type": "execute_result"
    }
   ],
   "source": [
    "fig, ax = plt.subplots()\n",
    "plot_dos(r'/home/esrf/florian1b/fdmnes/u-3/kuo3/radius/radius_7.1/out_7.1_sd1.txt', \n",
    "         axis = ax, \n",
    "         cols = ['Energy', 's', 'p', 'd', 'f'], \n",
    "         marker = '.',\n",
    "         scale_y = 3) \n",
    "ax.legend()"
   ]
  },
  {
   "cell_type": "code",
   "execution_count": 20,
   "metadata": {},
   "outputs": [
    {
     "data": {
      "application/vnd.jupyter.widget-view+json": {
       "model_id": "ec9f94d72b34436f88fdb6d19e521f50",
       "version_major": 2,
       "version_minor": 0
      },
      "text/plain": [
       "Canvas(toolbar=Toolbar(toolitems=[('Home', 'Reset original view', 'home', 'home'), ('Back', 'Back to previous …"
      ]
     },
     "metadata": {},
     "output_type": "display_data"
    },
    {
     "data": {
      "text/plain": [
       "<matplotlib.legend.Legend at 0x1528653f9f70>"
      ]
     },
     "execution_count": 20,
     "metadata": {},
     "output_type": "execute_result"
    }
   ],
   "source": [
    "fig, ax = plt.subplots()\n",
    "plot_dos(r'/home/esrf/florian1b/fdmnes/u-2/kuo3/radius_fdm/radius_9.35/out_9.35_sd1.txt', axis = ax, cols = ['Energy', 'p', 'd', 'f'], scale_y = 3)   \n",
    "ax.legend()"
   ]
  },
  {
   "cell_type": "markdown",
   "metadata": {},
   "source": [
    "## BaUO4"
   ]
  },
  {
   "cell_type": "code",
   "execution_count": 41,
   "metadata": {},
   "outputs": [
    {
     "data": {
      "application/vnd.jupyter.widget-view+json": {
       "model_id": "4bea853fe8ae4c8a97d5656c5c62dad0",
       "version_major": 2,
       "version_minor": 0
      },
      "text/plain": [
       "Canvas(toolbar=Toolbar(toolitems=[('Home', 'Reset original view', 'home', 'home'), ('Back', 'Back to previous …"
      ]
     },
     "metadata": {},
     "output_type": "display_data"
    },
    {
     "data": {
      "text/plain": [
       "Text(0.5, 0, 'Energy (eV)')"
      ]
     },
     "execution_count": 41,
     "metadata": {},
     "output_type": "execute_result"
    }
   ],
   "source": [
    "shift = 527\n",
    "fig, ax = plt.subplots()\n",
    "kws = dict(lw = 2)\n",
    "\n",
    "kws = dict(lw = 2)\n",
    "plot_calculation_2(r'/home/esrf/florian1b/fdmnes/u-1/bauo4/radius/radius_6.85/out_6.85_Gm0p5_GH0p2_conv.txt', shift_energy = shift, axis = ax,  color = 'blue', ls = 'solid', **kws)\n",
    "\n",
    "shift = -3\n",
    "kws = dict(lw = 1)\n",
    "# plot_calculation(r'/home/esrf/florian1b/fdmnes/u-1/bauo4/radius/radius_6.85/out_6.85_3.txt', shift_energy = shift, axis = ax, absolute_energy = True, color = 'grey', ls = 'solid', **kws)\n",
    "# plot_calculation(r'/home/esrf/florian1b/fdmnes/u-1/bauo4/radius/radius_6.85/out_6.85_4.txt', shift_energy = shift, axis = ax, absolute_energy = True, color = 'grey', ls = '--', **kws)\n",
    "# plot_calculation(r'/home/esrf/florian1b/fdmnes/u-1/bauo4/radius/radius_6.85/out_6.85_5.txt', shift_energy = shift, axis = ax, absolute_energy = True, color = 'grey', ls = ':', **kws)\n",
    "\n",
    "kws = dict(lw = 2)\n",
    "plot_experiment(r'/home/esrf/florian1b/data/uranium/BaUO4/BaUO4_xrs_oxygen_k_esrf_id20_2022_07_sum_medq.dat', axis = ax, scale = 1e5, color = 'k', **kws)\n",
    "ax.set_xlim([520, 550])\n",
    "ax.set_ylim([-2, 35])\n",
    "ax.set_xlabel(\"Energy (eV)\")"
   ]
  },
  {
   "cell_type": "markdown",
   "metadata": {},
   "source": [
    "## Compare calculations - individual"
   ]
  },
  {
   "cell_type": "code",
   "execution_count": 4,
   "metadata": {},
   "outputs": [
    {
     "data": {
      "application/vnd.jupyter.widget-view+json": {
       "model_id": "127f8ec4b9a046f4b29a486589c9dc7f",
       "version_major": 2,
       "version_minor": 0
      },
      "text/plain": [
       "Canvas(toolbar=Toolbar(toolitems=[('Home', 'Reset original view', 'home', 'home'), ('Back', 'Back to previous …"
      ]
     },
     "metadata": {},
     "output_type": "display_data"
    },
    {
     "data": {
      "text/plain": [
       "Text(0.5, 0, 'Energy (eV)')"
      ]
     },
     "execution_count": 4,
     "metadata": {},
     "output_type": "execute_result"
    }
   ],
   "source": [
    "fig, ax = plt.subplots()\n",
    "shift = -3\n",
    "kws = dict(lw = 1)\n",
    "plot_calculation(r'/home/esrf/florian1b/fdmnes/u-1/bauo4/radius/radius_6.85/out_6.85_3.txt', shift_energy = shift, axis = ax, absolute_energy = True, color = 'blue', ls = 'solid', **kws, label = 'BaUO$_4$')\n",
    "plot_calculation(r'/home/esrf/florian1b/fdmnes/u-1/bauo4/radius/radius_6.85/out_6.85_4.txt', shift_energy = shift, axis = ax, absolute_energy = True, color = 'blue', ls = '--', **kws)\n",
    "plot_calculation(r'/home/esrf/florian1b/fdmnes/u-1/bauo4/radius/radius_6.85/out_6.85_5.txt', shift_energy = shift, axis = ax, absolute_energy = True, color = 'blue', ls = ':', **kws)\n",
    "\n",
    "plot_calculation(r'/home/esrf/florian1b/fdmnes/u-1/kuo3/radius/radius_6.25/out_6.25.txt', axis = ax, absolute_energy = True, shift_energy = shift, shift_y = 15, color = 'red', **kws, label = 'KUO$_3$')\n",
    "\n",
    "plot_calculation(r'/home/esrf/florian1b/fdmnes/u-1/nauo3/radius/radius_7/out_7_3.txt', axis = ax, absolute_energy = True, shift_energy = shift, shift_y = 30, color = 'green', **kws, ls = 'solid', label = 'NaUO$_3$')\n",
    "plot_calculation(r'/home/esrf/florian1b/fdmnes/u-1/nauo3/radius/radius_7/out_7_4.txt', axis = ax, absolute_energy = True, shift_energy = shift, shift_y = 30, color = 'green', **kws, ls = '--')\n",
    "\n",
    "plot_calculation(r'/home/esrf/florian1b/fdmnes/u-1/rbuo3/radius/radius_7/out_7.txt', axis = ax, absolute_energy = True, shift_energy = shift, shift_y = 45, color = 'k', **kws, ls = 'solid', label = 'RbUO$_3$')\n",
    "\n",
    "ax.set_xlim([520, 550])\n",
    "ax.set_ylim([-2, 150])\n",
    "ax.legend(frameon = False)\n",
    "ax.set_xlabel(\"Energy (eV)\")"
   ]
  },
  {
   "cell_type": "markdown",
   "metadata": {},
   "source": [
    "## Compare calculations - average"
   ]
  },
  {
   "cell_type": "code",
   "execution_count": 53,
   "metadata": {},
   "outputs": [
    {
     "name": "stderr",
     "output_type": "stream",
     "text": [
      "<ipython-input-53-b20c5847a4db>:1: RuntimeWarning: More than 20 figures have been opened. Figures created through the pyplot interface (`matplotlib.pyplot.figure`) are retained until explicitly closed and may consume too much memory. (To control this warning, see the rcParam `figure.max_open_warning`).\n",
      "  fig, ax = plt.subplots()\n"
     ]
    },
    {
     "data": {
      "application/vnd.jupyter.widget-view+json": {
       "model_id": "34a1194cbd2149498bb1c68956fd2a7c",
       "version_major": 2,
       "version_minor": 0
      },
      "text/plain": [
       "Canvas(toolbar=Toolbar(toolitems=[('Home', 'Reset original view', 'home', 'home'), ('Back', 'Back to previous …"
      ]
     },
     "metadata": {},
     "output_type": "display_data"
    },
    {
     "data": {
      "text/plain": [
       "Text(0.5, 0, 'Energy (eV)')"
      ]
     },
     "execution_count": 53,
     "metadata": {},
     "output_type": "execute_result"
    }
   ],
   "source": [
    "fig, ax = plt.subplots()\n",
    "shift = 0\n",
    "kws = dict(lw = 1)\n",
    "plot_calculation_2(r'/home/esrf/florian1b/fdmnes/u-1/bauo4/radius/radius_6.85/out_6.85_Gm0p5_GH0p2_conv.txt', shift_energy = shift, axis = ax, color = 'blue', ls = 'solid', **kws, label = 'BaUO$_4$')\n",
    "\n",
    "plot_calculation_2(r'/home/esrf/florian1b/fdmnes/u-1/kuo3/radius/radius_6.25/out_6.25_Gm0p5_GH0p2_conv.txt', axis = ax,shift_energy = shift, shift_y = 15, color = 'red', **kws, label = 'KUO$_3$')\n",
    "\n",
    "plot_calculation_2(r'/home/esrf/florian1b/fdmnes/u-1/nauo3/radius/radius_7/out_7_Gm0p5_GH0p2_conv.txt', axis = ax, shift_energy = shift, shift_y = 30, color = 'green', **kws, ls = 'solid', label = 'NaUO$_3$')\n",
    "\n",
    "plot_calculation_2(r'/home/esrf/florian1b/fdmnes/u-1/rbuo3/radius/radius_7/out_7_Gm0p5_GH0p2_conv.txt', axis = ax, shift_energy = shift, shift_y = 45, color = 'k', **kws, ls = 'solid', label = 'RbUO$_3$')\n",
    "\n",
    "# ax.set_xlim([520, 550])\n",
    "ax.set_ylim([-2, 70])\n",
    "ax.legend(frameon = False)\n",
    "ax.set_xlabel(\"Energy (eV)\")"
   ]
  },
  {
   "cell_type": "markdown",
   "metadata": {},
   "source": [
    "# FDM"
   ]
  },
  {
   "cell_type": "markdown",
   "metadata": {},
   "source": [
    "## KUO3"
   ]
  },
  {
   "cell_type": "code",
   "execution_count": 55,
   "metadata": {},
   "outputs": [
    {
     "name": "stderr",
     "output_type": "stream",
     "text": [
      "<ipython-input-55-c95fd55fdbfc>:3: RuntimeWarning: More than 20 figures have been opened. Figures created through the pyplot interface (`matplotlib.pyplot.figure`) are retained until explicitly closed and may consume too much memory. (To control this warning, see the rcParam `figure.max_open_warning`).\n",
      "  fig, ax = plt.subplots()\n"
     ]
    },
    {
     "data": {
      "application/vnd.jupyter.widget-view+json": {
       "model_id": "2d32097535e449debac1ce00cf820066",
       "version_major": 2,
       "version_minor": 0
      },
      "text/plain": [
       "Canvas(toolbar=Toolbar(toolitems=[('Home', 'Reset original view', 'home', 'home'), ('Back', 'Back to previous …"
      ]
     },
     "metadata": {},
     "output_type": "display_data"
    },
    {
     "data": {
      "text/plain": [
       "Text(0.5, 0, 'Energy (eV)')"
      ]
     },
     "execution_count": 55,
     "metadata": {},
     "output_type": "execute_result"
    }
   ],
   "source": [
    "shift = -3\n",
    "kws = dict(lw = 2)\n",
    "fig, ax = plt.subplots()\n",
    "plot_calculation(r'/home/esrf/florian1b/fdmnes/u-1/kuo3/radius_fdm/radius_6.25/out_6.25.txt', axis = ax, absolute_energy = True, shift_energy = shift, color = 'blue', **kws)\n",
    "plot_experiment(r'/home/esrf/florian1b/data/uranium/KUO3/KUO3_xrs_oxygen_k_esrf_id20_2022_07_sum_medq.dat', axis = ax, scale = 1e5, color = 'k', **kws)\n",
    "ax.set_xlim([520, 550])\n",
    "ax.set_ylim([-2, 20])\n",
    "ax.set_xlabel(\"Energy (eV)\")"
   ]
  },
  {
   "cell_type": "markdown",
   "metadata": {},
   "source": [
    "## BaUO4\n",
    "\n",
    "Why are the atoms labelled 1-3 here? I put Z_Absorber 8 in the input file, and it works for Green calculations."
   ]
  },
  {
   "cell_type": "code",
   "execution_count": 43,
   "metadata": {},
   "outputs": [
    {
     "name": "stderr",
     "output_type": "stream",
     "text": [
      "<ipython-input-43-ae5194965457>:2: RuntimeWarning: More than 20 figures have been opened. Figures created through the pyplot interface (`matplotlib.pyplot.figure`) are retained until explicitly closed and may consume too much memory. (To control this warning, see the rcParam `figure.max_open_warning`).\n",
      "  fig, ax = plt.subplots()\n"
     ]
    },
    {
     "data": {
      "application/vnd.jupyter.widget-view+json": {
       "model_id": "2b9ce46cb39e49dc9bfb96de101b6428",
       "version_major": 2,
       "version_minor": 0
      },
      "text/plain": [
       "Canvas(toolbar=Toolbar(toolitems=[('Home', 'Reset original view', 'home', 'home'), ('Back', 'Back to previous …"
      ]
     },
     "metadata": {},
     "output_type": "display_data"
    },
    {
     "data": {
      "text/plain": [
       "Text(0.5, 0, 'Energy (eV)')"
      ]
     },
     "execution_count": 43,
     "metadata": {},
     "output_type": "execute_result"
    }
   ],
   "source": [
    "shift = 528\n",
    "fig, ax = plt.subplots()\n",
    "kws = dict(lw = 2)\n",
    "\n",
    "kws = dict(lw = 2)\n",
    "plot_calculation_2(r'/home/esrf/florian1b/fdmnes/u-1/bauo4/radius_fdm/radius_5.35/out_5.35_Gm0p5_GH0p2_conv.txt', shift_energy = shift, axis = ax,  color = 'blue', ls = 'solid', **kws)\n",
    "\n",
    "shift = -2\n",
    "kws = dict(lw = 1)\n",
    "plot_calculation(r'/home/esrf/florian1b/fdmnes/u-1/bauo4/radius_fdm/radius_5.35/out_5.35_1.txt', shift_energy = shift, axis = ax, absolute_energy = True, color = 'grey', ls = 'solid', **kws)\n",
    "plot_calculation(r'/home/esrf/florian1b/fdmnes/u-1/bauo4/radius_fdm/radius_5.35/out_5.35_2.txt', shift_energy = shift, axis = ax, absolute_energy = True, color = 'grey', ls = '--', **kws)\n",
    "plot_calculation(r'/home/esrf/florian1b/fdmnes/u-1/bauo4/radius_fdm/radius_5.35/out_5.35_3.txt', shift_energy = shift, axis = ax, absolute_energy = True, color = 'grey', ls = ':', **kws)\n",
    "\n",
    "kws = dict(lw = 2)\n",
    "plot_experiment(r'/home/esrf/florian1b/data/uranium/BaUO4/BaUO4_xrs_oxygen_k_esrf_id20_2022_07_sum_medq.dat', axis = ax, scale = 1e5, color = 'k', **kws)\n",
    "ax.set_xlim([520, 550])\n",
    "ax.set_ylim([-2, 35])\n",
    "ax.set_xlabel(\"Energy (eV)\")"
   ]
  },
  {
   "cell_type": "markdown",
   "metadata": {},
   "source": [
    "## Compare calculations - individual"
   ]
  },
  {
   "cell_type": "code",
   "execution_count": 51,
   "metadata": {},
   "outputs": [
    {
     "name": "stderr",
     "output_type": "stream",
     "text": [
      "<ipython-input-51-4b0230b94b9c>:1: RuntimeWarning: More than 20 figures have been opened. Figures created through the pyplot interface (`matplotlib.pyplot.figure`) are retained until explicitly closed and may consume too much memory. (To control this warning, see the rcParam `figure.max_open_warning`).\n",
      "  fig, ax = plt.subplots()\n"
     ]
    },
    {
     "data": {
      "application/vnd.jupyter.widget-view+json": {
       "model_id": "0eb9c84fb03840f1bd95f27a0f1714a7",
       "version_major": 2,
       "version_minor": 0
      },
      "text/plain": [
       "Canvas(toolbar=Toolbar(toolitems=[('Home', 'Reset original view', 'home', 'home'), ('Back', 'Back to previous …"
      ]
     },
     "metadata": {},
     "output_type": "display_data"
    },
    {
     "data": {
      "text/plain": [
       "Text(0.5, 0, 'Energy (eV)')"
      ]
     },
     "execution_count": 51,
     "metadata": {},
     "output_type": "execute_result"
    }
   ],
   "source": [
    "fig, ax = plt.subplots()\n",
    "shift = -3\n",
    "kws = dict(lw = 1)\n",
    "plot_calculation(r'/home/esrf/florian1b/fdmnes/u-1/bauo4/radius_fdm/radius_5.35/out_5.35_1.txt', shift_energy = shift, axis = ax, absolute_energy = True, color = 'blue', ls = 'solid', **kws, label = 'BaUO$_4$')\n",
    "plot_calculation(r'/home/esrf/florian1b/fdmnes/u-1/bauo4/radius_fdm/radius_5.35/out_5.35_2.txt', shift_energy = shift, axis = ax, absolute_energy = True, color = 'blue', ls = '--', **kws)\n",
    "plot_calculation(r'/home/esrf/florian1b/fdmnes/u-1/bauo4/radius_fdm/radius_5.35/out_5.35_3.txt', shift_energy = shift, axis = ax, absolute_energy = True, color = 'blue', ls = ':', **kws)\n",
    "\n",
    "plot_calculation(r'/home/esrf/florian1b/fdmnes/u-1/kuo3/radius_fdm/radius_6.25/out_6.25.txt', axis = ax, absolute_energy = True, shift_energy = shift, shift_y = 15, color = 'red', **kws, label = 'KUO$_3$')\n",
    "\n",
    "plot_calculation(r'/home/esrf/florian1b/fdmnes/u-1/nauo3/radius_fdm/radius_6.15/out_6.15_1.txt', axis = ax, absolute_energy = True, shift_energy = shift, shift_y = 30, color = 'green', **kws, ls = 'solid', label = 'NaUO$_3$')\n",
    "plot_calculation(r'/home/esrf/florian1b/fdmnes/u-1/nauo3/radius_fdm/radius_6.15/out_6.15_2.txt', axis = ax, absolute_energy = True, shift_energy = shift, shift_y = 30, color = 'green', **kws, ls = '--')\n",
    "\n",
    "plot_calculation(r'/home/esrf/florian1b/fdmnes/u-1/rbuo3/radius_fdm/radius_7/out_7.txt', axis = ax, absolute_energy = True, shift_energy = shift, shift_y = 45, color = 'k', **kws, ls = 'solid', label = 'RbUO$_3$')\n",
    "\n",
    "ax.set_xlim([520, 550])\n",
    "ax.set_ylim([-2, 150])\n",
    "ax.legend(frameon = False)\n",
    "ax.set_xlabel(\"Energy (eV)\")"
   ]
  },
  {
   "cell_type": "markdown",
   "metadata": {},
   "source": [
    "## Compare calculations - average"
   ]
  },
  {
   "cell_type": "code",
   "execution_count": 3,
   "metadata": {},
   "outputs": [
    {
     "data": {
      "application/vnd.jupyter.widget-view+json": {
       "model_id": "6c9519e9991747c6bfbe4027d98ac249",
       "version_major": 2,
       "version_minor": 0
      },
      "text/plain": [
       "Canvas(toolbar=Toolbar(toolitems=[('Home', 'Reset original view', 'home', 'home'), ('Back', 'Back to previous …"
      ]
     },
     "metadata": {},
     "output_type": "display_data"
    },
    {
     "data": {
      "text/plain": [
       "Text(0.5, 0, 'Energy (eV)')"
      ]
     },
     "execution_count": 3,
     "metadata": {},
     "output_type": "execute_result"
    }
   ],
   "source": [
    "fig, ax = plt.subplots()\n",
    "shift = 0\n",
    "kws = dict(lw = 1)\n",
    "plot_calculation_2(r'/home/esrf/florian1b/fdmnes/u-1/bauo4/radius_fdm/radius_5.35/out_5.35_Gm0p5_GH0p2_conv.txt', shift_energy = shift, axis = ax, color = 'blue', ls = 'solid', **kws, label = 'BaUO$_4$')\n",
    "\n",
    "plot_calculation_2(r'/home/esrf/florian1b/fdmnes/u-1/kuo3/radius_fdm/radius_6.25/out_6.25_Gm0p5_GH0p2_conv.txt', axis = ax,shift_energy = shift, shift_y = 15, color = 'red', **kws, label = 'KUO$_3$')\n",
    "\n",
    "plot_calculation_2(r'/home/esrf/florian1b/fdmnes/u-1/nauo3/radius_fdm/radius_6.15/out_6.15_Gm0p5_GH0p2_conv.txt', axis = ax, shift_energy = shift, shift_y = 30, color = 'green', **kws, ls = 'solid', label = 'NaUO$_3$')\n",
    "\n",
    "plot_calculation_2(r'/home/esrf/florian1b/fdmnes/u-1/rbuo3/radius_fdm/radius_7/out_7_Gm0p5_GH0p2_conv.txt', axis = ax, shift_energy = shift, shift_y = 45, color = 'k', **kws, ls = 'solid', label = 'RbUO$_3$')\n",
    "\n",
    "# ax.set_xlim([520, 550])\n",
    "ax.set_ylim([-2, 70])\n",
    "ax.legend(frameon = False)\n",
    "ax.set_xlabel(\"Energy (eV)\")"
   ]
  },
  {
   "cell_type": "code",
   "execution_count": 9,
   "metadata": {},
   "outputs": [
    {
     "data": {
      "application/vnd.jupyter.widget-view+json": {
       "model_id": "e2d2f2d5565a490f801ff214b0bbb7e2",
       "version_major": 2,
       "version_minor": 0
      },
      "text/plain": [
       "Canvas(toolbar=Toolbar(toolitems=[('Home', 'Reset original view', 'home', 'home'), ('Back', 'Back to previous …"
      ]
     },
     "metadata": {},
     "output_type": "display_data"
    },
    {
     "data": {
      "application/vnd.jupyter.widget-view+json": {
       "model_id": "c2378a88ba4e45f9a9f3dce10e4aa9be",
       "version_major": 2,
       "version_minor": 0
      },
      "text/plain": [
       "Canvas(toolbar=Toolbar(toolitems=[('Home', 'Reset original view', 'home', 'home'), ('Back', 'Back to previous …"
      ]
     },
     "metadata": {},
     "output_type": "display_data"
    }
   ],
   "source": [
    "plot_calculation(r'/home/esrf/amidani/Documents/Simulations/Uranium/UO2/Paolasini_O_Kedge/cell_0pm/radius/R8.1/out_Gm0p5_GH0p2_conv.txt', shift_energy = shift, color = 'blue', ls = 'solid', **kws, label = 'BaUO$_4$')\n",
    "plot_calculation(r'/home/esrf/amidani/Documents/Simulations/Uranium/UO2/Paolasini_O_Kedge/cell_0pm/radius/R8.1/out.txt', shift_energy = shift, color = 'blue', ls = 'solid', **kws, label = 'BaUO$_4$')\n"
   ]
  },
  {
   "cell_type": "code",
   "execution_count": 20,
   "metadata": {},
   "outputs": [
    {
     "data": {
      "application/vnd.jupyter.widget-view+json": {
       "model_id": "8804325bc60a44279080831ed2f2bdaf",
       "version_major": 2,
       "version_minor": 0
      },
      "text/plain": [
       "Canvas(toolbar=Toolbar(toolitems=[('Home', 'Reset original view', 'home', 'home'), ('Back', 'Back to previous …"
      ]
     },
     "metadata": {},
     "output_type": "display_data"
    },
    {
     "data": {
      "text/plain": [
       "<matplotlib.legend.Legend at 0x14b283a571f0>"
      ]
     },
     "execution_count": 20,
     "metadata": {},
     "output_type": "execute_result"
    }
   ],
   "source": [
    "x, y = np.loadtxt(r'/home/esrf/amidani/Documents/Simulations/Uranium/UO2/Paolasini_O_Kedge/cell_10pm/R8_Green_Hub_5/out_sd0.txt', skiprows = 1).T[np.array([0,6])]\n",
    "ux, uy1, uy2 = np.loadtxt(r'/home/esrf/amidani/Documents/Simulations/Uranium/UO2/Paolasini_O_Kedge/cell_10pm/R8_Green_Hub_5/out_sd2.txt', skiprows = 1).T[np.array([0, 13,22])]\n",
    "\n",
    "plt.figure()\n",
    "plt.bar(x, y * 100, width = 0.1, label = 'O')\n",
    "plt.bar(ux, uy1, width = 0.1, label = 'U d', zorder = 5)\n",
    "plt.bar(ux, uy2, width = 0.1, label = 'U f')\n",
    "plt.legend()"
   ]
  },
  {
   "cell_type": "code",
   "execution_count": null,
   "metadata": {},
   "outputs": [],
   "source": []
  }
 ],
 "metadata": {
  "kernelspec": {
   "display_name": "Python 3",
   "language": "python",
   "name": "python3"
  },
  "language_info": {
   "codemirror_mode": {
    "name": "ipython",
    "version": 3
   },
   "file_extension": ".py",
   "mimetype": "text/x-python",
   "name": "python",
   "nbconvert_exporter": "python",
   "pygments_lexer": "ipython3",
   "version": "3.8.10"
  }
 },
 "nbformat": 4,
 "nbformat_minor": 4
}
