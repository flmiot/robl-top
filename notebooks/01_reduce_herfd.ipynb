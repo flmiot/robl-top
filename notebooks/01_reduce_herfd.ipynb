{
 "cells": [
  {
   "cell_type": "markdown",
   "metadata": {},
   "source": [
    "# Reduce HERFD data\n",
    "This notebook offers two functions (defined below)\n",
    "\n",
    " -  **``average(spec_filename, scan_numbers, export_base_filename = None)``**\n",
    " \n",
    " For a given SPEC file, a list of scan numbers can be averaged. The specified scans should be HERFD scans, i.e., the columns ```energy```, ```ketek``` and ```i0s``` are expected to be present. If ```export_base_filename``` is not None, three files will be exported: \n",
    " \n",
    "   -  ```export_base_filename``` + '.txt'\n",
    "   \n",
    "       The raw, averaged data.\n",
    "   -  ```export_base_filename``` + '_normalized.txt'\n",
    "   \n",
    "      The raw, averaged data, normalized to the peak maximum. \n",
    "      \n",
    "   -  ```export_base_filename``` + '_sgb_normalized.txt'\n",
    "   \n",
    "      The normalized data set, filtered with the scipy.signal.savgol_filter (x, window_length = 3, polyorder = 1)\n",
    "      \n",
    " -  **``compare(filenames)``**\n",
    " \n",
    " Plot a list of exported data sets, which have been reduced with the ``average`` function."
   ]
  },
  {
   "cell_type": "code",
   "execution_count": 9,
   "metadata": {},
   "outputs": [],
   "source": [
    "%matplotlib widget\n",
    "import os\n",
    "import matplotlib.pyplot as plt\n",
    "import numpy as np\n",
    "from silx.io.specfile import SpecFile\n",
    "from scipy.signal import savgol_filter\n",
    "\n",
    "def average(\n",
    "    spec_filename,\n",
    "    scan_numbers,\n",
    "    export_base_filename = None\n",
    "):\n",
    "    \"\"\"\n",
    "    Average (and export to file if desired) multiple scans\n",
    "    \"\"\"\n",
    "    sf = SpecFile(spec_filename)\n",
    "    \n",
    "    plt.figure()\n",
    "    \n",
    "    # Determine scan shape\n",
    "    energy = sf[scan_numbers[0] - 1].data_column_by_name('energy')\n",
    "    data     = np.empty( (len(scan_numbers), len(energy)) )\n",
    "    data[:]  = np.nan\n",
    "    \n",
    "    for idx, scan_no in enumerate(scan_numbers):\n",
    "        \n",
    "        scan_no = scan_no - 1\n",
    "\n",
    "        x = sf[scan_no].data_column_by_name('energy')\n",
    "        y = sf[scan_no].data_column_by_name('ketek')\n",
    "        i0 = sf[scan_no].data_column_by_name('i0s')\n",
    "        \n",
    "        idx0, idx1 = np.argmin(np.abs(energy - x[0])), np.argmin(np.abs(energy - x[-1]))\n",
    "        \n",
    "        if not np.all(np.round(energy[idx0:idx1 + 1], 2) == np.round(x, 2)):\n",
    "            print(\"Warning! You seem to average scans with different energy axes.\")\n",
    "\n",
    "        data[idx, idx0:idx1 + 1] = y\n",
    "        \n",
    "        \n",
    "            \n",
    "        plt.plot(x, y, lw = 0.5)\n",
    "    \n",
    "    data = np.nansum(data, axis = 0)\n",
    "    error = np.sqrt(data)\n",
    "    \n",
    "    # Plot the averaged data and error\n",
    "    plt.title(export_base_filename)\n",
    "    plt.plot(energy, data, 'k.-', lw = 2, label = 'averaged')\n",
    "    plt.fill_between(energy, data - error/2, data + error/2, alpha = 0.25, color = 'k', label = 'Poisson error $\\sqrt{N}$')\n",
    "    plt.xlabel('Energy')\n",
    "    plt.ylabel('Intensity (counts)')\n",
    "    \n",
    "    data_norm = (data - np.nanmin(data)) / (np.nanmax(data) - np.nanmin(data))\n",
    "    \n",
    "    # Note that PyMca seems to treat the SavGol parameters differently. \n",
    "    # In PyMca we can set 'filter_width'\n",
    "    data_savgol = savgol_filter(data, window_length = 3, polyorder = 1)\n",
    "    \n",
    "    # Plot the smoothed data\n",
    "    plt.plot(energy, data_savgol, 'r', lw = 1, label = 'SG-filtered')\n",
    "    plt.legend()\n",
    "\n",
    "    \n",
    "    # If a basename was given, export \n",
    "    # - the average, \n",
    "    # - average normalized and \n",
    "    # - avarge normalized smoothed data\n",
    "    \n",
    "    if not export_base_filename is None:\n",
    "        \n",
    "        filename = export_base_filename + '.txt'  \n",
    "        filename_n1 = export_base_filename + '_normalized.txt'\n",
    "        filename_sbg = export_base_filename + '_normalized_sgb.txt'\n",
    "        \n",
    "        \n",
    "        print(f'Info: Saving result to files:')\n",
    "        print(f'Average: {filename}:')\n",
    "        print(f'Normalized: {filename_n1}:')\n",
    "        print(f'Smoothed: {filename_sbg}:')\n",
    "        \n",
    "        np.savetxt(filename, np.vstack([energy, data]).T)\n",
    "        np.savetxt(filename_n1, np.vstack([energy, data_norm]).T)\n",
    "        np.savetxt(filename_sbg, np.vstack([energy, data_savgol]).T)\n",
    " \n",
    "    \n",
    "    \n",
    "def compare(\n",
    "    filenames,\n",
    "):\n",
    "    \"\"\"\n",
    "    Plot several scans from different samples for easier comparison\n",
    "    \"\"\"\n",
    "        \n",
    "    plt.figure()\n",
    "    for filename in filenames:\n",
    "        x, y = np.loadtxt(filename).T\n",
    "        plt.plot(x, y, '.-', label = filename)\n",
    "        \n",
    "    plt.legend()"
   ]
  },
  {
   "cell_type": "markdown",
   "metadata": {},
   "source": [
    "# Average datasets"
   ]
  },
  {
   "cell_type": "code",
   "execution_count": 10,
   "metadata": {},
   "outputs": [
    {
     "data": {
      "application/vnd.jupyter.widget-view+json": {
       "model_id": "8c4a7f535a8947ab806c5f2524e592d5",
       "version_major": 2,
       "version_minor": 0
      },
      "text/plain": [
       "Canvas(toolbar=Toolbar(toolitems=[('Home', 'Reset original view', 'home', 'home'), ('Back', 'Back to previous …"
      ]
     },
     "metadata": {},
     "output_type": "display_data"
    },
    {
     "ename": "ValueError",
     "evalue": "window_length must be odd.",
     "output_type": "error",
     "traceback": [
      "\u001b[0;31m---------------------------------------------------------------------------\u001b[0m",
      "\u001b[0;31mValueError\u001b[0m                                Traceback (most recent call last)",
      "\u001b[0;32m<ipython-input-10-4e50551e7398>\u001b[0m in \u001b[0;36m<module>\u001b[0;34m\u001b[0m\n\u001b[0;32m----> 1\u001b[0;31m average(\n\u001b[0m\u001b[1;32m      2\u001b[0m     \u001b[0mspec_filename\u001b[0m \u001b[0;34m=\u001b[0m \u001b[0;34m'/data/bm20/inhouse/data_TOP/20221004_Vejar_U_Pu/Pu21_21'\u001b[0m\u001b[0;34m,\u001b[0m\u001b[0;34m\u001b[0m\u001b[0;34m\u001b[0m\u001b[0m\n\u001b[1;32m      3\u001b[0m     \u001b[0mscan_numbers\u001b[0m \u001b[0;34m=\u001b[0m \u001b[0;34m[\u001b[0m\u001b[0;36m4\u001b[0m\u001b[0;34m,\u001b[0m \u001b[0;36m5\u001b[0m\u001b[0;34m,\u001b[0m \u001b[0;36m6\u001b[0m\u001b[0;34m,\u001b[0m \u001b[0;36m7\u001b[0m\u001b[0;34m]\u001b[0m\u001b[0;34m,\u001b[0m\u001b[0;34m\u001b[0m\u001b[0;34m\u001b[0m\u001b[0m\n\u001b[1;32m      4\u001b[0m     \u001b[0mexport_base_filename\u001b[0m \u001b[0;34m=\u001b[0m \u001b[0;34m'/tmp/test'\u001b[0m\u001b[0;34m\u001b[0m\u001b[0;34m\u001b[0m\u001b[0m\n\u001b[1;32m      5\u001b[0m )\n",
      "\u001b[0;32m<ipython-input-9-624c95039e91>\u001b[0m in \u001b[0;36maverage\u001b[0;34m(spec_filename, scan_numbers, export_base_filename)\u001b[0m\n\u001b[1;32m     53\u001b[0m \u001b[0;34m\u001b[0m\u001b[0m\n\u001b[1;32m     54\u001b[0m     \u001b[0mdata_norm\u001b[0m \u001b[0;34m=\u001b[0m \u001b[0;34m(\u001b[0m\u001b[0mdata\u001b[0m \u001b[0;34m-\u001b[0m \u001b[0mnp\u001b[0m\u001b[0;34m.\u001b[0m\u001b[0mnanmin\u001b[0m\u001b[0;34m(\u001b[0m\u001b[0mdata\u001b[0m\u001b[0;34m)\u001b[0m\u001b[0;34m)\u001b[0m \u001b[0;34m/\u001b[0m \u001b[0;34m(\u001b[0m\u001b[0mnp\u001b[0m\u001b[0;34m.\u001b[0m\u001b[0mnanmax\u001b[0m\u001b[0;34m(\u001b[0m\u001b[0mdata\u001b[0m\u001b[0;34m)\u001b[0m \u001b[0;34m-\u001b[0m \u001b[0mnp\u001b[0m\u001b[0;34m.\u001b[0m\u001b[0mnanmin\u001b[0m\u001b[0;34m(\u001b[0m\u001b[0mdata\u001b[0m\u001b[0;34m)\u001b[0m\u001b[0;34m)\u001b[0m\u001b[0;34m\u001b[0m\u001b[0;34m\u001b[0m\u001b[0m\n\u001b[0;32m---> 55\u001b[0;31m     \u001b[0mdata_savgol\u001b[0m \u001b[0;34m=\u001b[0m \u001b[0msavgol_filter\u001b[0m\u001b[0;34m(\u001b[0m\u001b[0mdata\u001b[0m\u001b[0;34m,\u001b[0m \u001b[0mwindow_length\u001b[0m \u001b[0;34m=\u001b[0m \u001b[0;36m2\u001b[0m\u001b[0;34m,\u001b[0m \u001b[0mpolyorder\u001b[0m \u001b[0;34m=\u001b[0m \u001b[0;36m1\u001b[0m\u001b[0;34m)\u001b[0m\u001b[0;34m\u001b[0m\u001b[0;34m\u001b[0m\u001b[0m\n\u001b[0m\u001b[1;32m     56\u001b[0m \u001b[0;34m\u001b[0m\u001b[0m\n\u001b[1;32m     57\u001b[0m     \u001b[0;31m# Plot the smoothed data\u001b[0m\u001b[0;34m\u001b[0m\u001b[0;34m\u001b[0m\u001b[0;34m\u001b[0m\u001b[0m\n",
      "\u001b[0;32m/usr/lib/python3/dist-packages/scipy/signal/_savitzky_golay.py\u001b[0m in \u001b[0;36msavgol_filter\u001b[0;34m(x, window_length, polyorder, deriv, delta, axis, mode, cval)\u001b[0m\n\u001b[1;32m    335\u001b[0m         \u001b[0mx\u001b[0m \u001b[0;34m=\u001b[0m \u001b[0mx\u001b[0m\u001b[0;34m.\u001b[0m\u001b[0mastype\u001b[0m\u001b[0;34m(\u001b[0m\u001b[0mnp\u001b[0m\u001b[0;34m.\u001b[0m\u001b[0mfloat64\u001b[0m\u001b[0;34m)\u001b[0m\u001b[0;34m\u001b[0m\u001b[0;34m\u001b[0m\u001b[0m\n\u001b[1;32m    336\u001b[0m \u001b[0;34m\u001b[0m\u001b[0m\n\u001b[0;32m--> 337\u001b[0;31m     \u001b[0mcoeffs\u001b[0m \u001b[0;34m=\u001b[0m \u001b[0msavgol_coeffs\u001b[0m\u001b[0;34m(\u001b[0m\u001b[0mwindow_length\u001b[0m\u001b[0;34m,\u001b[0m \u001b[0mpolyorder\u001b[0m\u001b[0;34m,\u001b[0m \u001b[0mderiv\u001b[0m\u001b[0;34m=\u001b[0m\u001b[0mderiv\u001b[0m\u001b[0;34m,\u001b[0m \u001b[0mdelta\u001b[0m\u001b[0;34m=\u001b[0m\u001b[0mdelta\u001b[0m\u001b[0;34m)\u001b[0m\u001b[0;34m\u001b[0m\u001b[0;34m\u001b[0m\u001b[0m\n\u001b[0m\u001b[1;32m    338\u001b[0m \u001b[0;34m\u001b[0m\u001b[0m\n\u001b[1;32m    339\u001b[0m     \u001b[0;32mif\u001b[0m \u001b[0mmode\u001b[0m \u001b[0;34m==\u001b[0m \u001b[0;34m\"interp\"\u001b[0m\u001b[0;34m:\u001b[0m\u001b[0;34m\u001b[0m\u001b[0;34m\u001b[0m\u001b[0m\n",
      "\u001b[0;32m/usr/lib/python3/dist-packages/scipy/signal/_savitzky_golay.py\u001b[0m in \u001b[0;36msavgol_coeffs\u001b[0;34m(window_length, polyorder, deriv, delta, pos, use)\u001b[0m\n\u001b[1;32m    102\u001b[0m \u001b[0;34m\u001b[0m\u001b[0m\n\u001b[1;32m    103\u001b[0m     \u001b[0;32mif\u001b[0m \u001b[0mrem\u001b[0m \u001b[0;34m==\u001b[0m \u001b[0;36m0\u001b[0m\u001b[0;34m:\u001b[0m\u001b[0;34m\u001b[0m\u001b[0;34m\u001b[0m\u001b[0m\n\u001b[0;32m--> 104\u001b[0;31m         \u001b[0;32mraise\u001b[0m \u001b[0mValueError\u001b[0m\u001b[0;34m(\u001b[0m\u001b[0;34m\"window_length must be odd.\"\u001b[0m\u001b[0;34m)\u001b[0m\u001b[0;34m\u001b[0m\u001b[0;34m\u001b[0m\u001b[0m\n\u001b[0m\u001b[1;32m    105\u001b[0m \u001b[0;34m\u001b[0m\u001b[0m\n\u001b[1;32m    106\u001b[0m     \u001b[0;32mif\u001b[0m \u001b[0mpos\u001b[0m \u001b[0;32mis\u001b[0m \u001b[0;32mNone\u001b[0m\u001b[0;34m:\u001b[0m\u001b[0;34m\u001b[0m\u001b[0;34m\u001b[0m\u001b[0m\n",
      "\u001b[0;31mValueError\u001b[0m: window_length must be odd."
     ]
    }
   ],
   "source": [
    "average(\n",
    "    spec_filename = '/data/bm20/inhouse/data_TOP/20221004_Vejar_U_Pu/Pu21_21', \n",
    "    scan_numbers = [4, 5, 6, 7], \n",
    "    export_base_filename = '/tmp/test'\n",
    ")"
   ]
  },
  {
   "cell_type": "markdown",
   "metadata": {},
   "source": [
    "# Compare datasets"
   ]
  },
  {
   "cell_type": "code",
   "execution_count": 18,
   "metadata": {},
   "outputs": [
    {
     "data": {
      "application/vnd.jupyter.widget-view+json": {
       "model_id": "38e8390de9b247f993cd5c238fa519b8",
       "version_major": 2,
       "version_minor": 0
      },
      "text/plain": [
       "Canvas(toolbar=Toolbar(toolitems=[('Home', 'Reset original view', 'home', 'home'), ('Back', 'Back to previous …"
      ]
     },
     "metadata": {},
     "output_type": "display_data"
    }
   ],
   "source": [
    "compare(\n",
    "    ['/tmp/test_normalized.txt',\n",
    "    '/tmp/test_normalized_sgb.txt']\n",
    ")"
   ]
  },
  {
   "cell_type": "code",
   "execution_count": null,
   "metadata": {},
   "outputs": [],
   "source": []
  },
  {
   "cell_type": "code",
   "execution_count": null,
   "metadata": {},
   "outputs": [],
   "source": []
  }
 ],
 "metadata": {
  "kernelspec": {
   "display_name": "Python 3",
   "language": "python",
   "name": "python3"
  },
  "language_info": {
   "codemirror_mode": {
    "name": "ipython",
    "version": 3
   },
   "file_extension": ".py",
   "mimetype": "text/x-python",
   "name": "python",
   "nbconvert_exporter": "python",
   "pygments_lexer": "ipython3",
   "version": "3.8.10"
  }
 },
 "nbformat": 4,
 "nbformat_minor": 4
}
