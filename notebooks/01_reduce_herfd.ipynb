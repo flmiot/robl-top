{
 "cells": [
  {
   "cell_type": "markdown",
   "metadata": {},
   "source": [
    "# Reduce HERFD data\n",
    "This notebook offers two functions (defined below)\n",
    "\n",
    " -  **``average(spec_filename, scan_numbers, export_base_filename = None)``**\n",
    " \n",
    " For a given SPEC file, a list of scan numbers can be averaged. The specified scans should be HERFD scans, i.e., the columns ```energy```, ```ketek``` and ```i0s``` are expected to be present. If ```export_base_filename``` is not None, three files will be exported: \n",
    " \n",
    "   -  ```export_base_filename``` + '.txt'\n",
    "   \n",
    "       The raw, averaged data.\n",
    "   -  ```export_base_filename``` + '_normalized.txt'\n",
    "   \n",
    "      The raw, averaged data, normalized to the peak maximum. \n",
    "      \n",
    "   -  ```export_base_filename``` + '_sgb_normalized.txt'\n",
    "   \n",
    "      The normalized data set, filtered with the scipy.signal.savgol_filter (x, window_length = 3, polyorder = 1)\n",
    "      \n",
    " -  **``compare(filenames)``**\n",
    " \n",
    " Plot a list of exported data sets, which have been reduced with the ``average`` function."
   ]
  },
  {
   "cell_type": "code",
   "execution_count": 11,
   "metadata": {},
   "outputs": [],
   "source": [
    "%matplotlib widget\n",
    "import os\n",
    "import matplotlib.pyplot as plt\n",
    "import numpy as np\n",
    "from silx.io.specfile import SpecFile\n",
    "from scipy.signal import savgol_filter\n",
    "\n",
    "def average(\n",
    "    spec_filename,\n",
    "    scan_numbers,\n",
    "    export_base_filename = None\n",
    "):\n",
    "    \"\"\"\n",
    "    Average (and export to file if desired) multiple scans\n",
    "    \"\"\"\n",
    "    sf = SpecFile(spec_filename)\n",
    "    \n",
    "    plt.figure()\n",
    "    \n",
    "    # Determine scan shape\n",
    "    energy = sf[scan_numbers[0] - 1].data_column_by_name('energy')\n",
    "    data     = np.empty( (len(scan_numbers), len(energy)) )\n",
    "    data[:]  = np.nan\n",
    "    \n",
    "    for idx, scan_no in enumerate(scan_numbers):\n",
    "        \n",
    "        scan_no = scan_no - 1\n",
    "\n",
    "        x = sf[scan_no].data_column_by_name('energy')\n",
    "        y = sf[scan_no].data_column_by_name('ketek')\n",
    "        i0 = sf[scan_no].data_column_by_name('i0s')\n",
    "        \n",
    "        idx0, idx1 = np.argmin(np.abs(energy - x[0])), np.argmin(np.abs(energy - x[-1]))\n",
    "        \n",
    "        if not np.all(np.round(energy[idx0:idx1 + 1], 2) == np.round(x, 2)):\n",
    "            print(\"Warning! You seem to average scans with different energy axes.\")\n",
    "\n",
    "        data[idx, idx0:idx1 + 1] = y\n",
    "        \n",
    "        \n",
    "            \n",
    "        plt.plot(x, y, lw = 0.5)\n",
    "    \n",
    "    data = np.nansum(data, axis = 0)\n",
    "    error = np.sqrt(data)\n",
    "    \n",
    "    # Plot the averaged data and error\n",
    "    plt.title(export_base_filename)\n",
    "    plt.plot(energy, data, 'k.-', lw = 2, label = 'averaged')\n",
    "    plt.fill_between(energy, data - error/2, data + error/2, alpha = 0.25, color = 'k', label = 'Poisson error $\\sqrt{N}$')\n",
    "    plt.xlabel('Energy')\n",
    "    plt.ylabel('Intensity (counts)')\n",
    "    \n",
    "    data_norm = data / np.nanmax(data) \n",
    "    data_savgol = savgol_filter(data, window_length = 3, polyorder = 1)\n",
    "    \n",
    "    # Plot the smoothed data\n",
    "    plt.plot(energy, data_savgol, 'r', lw = 1, label = 'SG-filtered')\n",
    "    plt.legend()\n",
    "    \n",
    "    data_savgol = data_savgol / np.nanmax(data_savgol)\n",
    "    \n",
    "    # If a basename was given, export \n",
    "    # - the average, \n",
    "    # - average normalized and \n",
    "    # - avarge normalized smoothed data\n",
    "    \n",
    "    if not export_base_filename is None:\n",
    "        \n",
    "        filename = export_base_filename + '.txt'  \n",
    "        filename_n1 = export_base_filename + '_normalized.txt'\n",
    "        filename_sbg = export_base_filename + '_normalized_sgb.txt'\n",
    "        \n",
    "        \n",
    "        print(f'Info: Saving result to files:')\n",
    "        print(f'Average: {filename}:')\n",
    "        print(f'Normalized: {filename_n1}:')\n",
    "        print(f'Smoothed: {filename_sbg}:')\n",
    "        \n",
    "        np.savetxt(filename, np.vstack([energy, data]).T)\n",
    "        np.savetxt(filename_n1, np.vstack([energy, data_norm]).T)\n",
    "        np.savetxt(filename_sbg, np.vstack([energy, data_savgol]).T)\n",
    " \n",
    "    \n",
    "    \n",
    "def compare(\n",
    "    filenames,\n",
    "):\n",
    "    \"\"\"\n",
    "    Plot several scans from different samples for easier comparison\n",
    "    \"\"\"\n",
    "        \n",
    "    plt.figure()\n",
    "    for filename in filenames:\n",
    "        x, y = np.loadtxt(filename).T\n",
    "        plt.plot(x, y, '.-', label = filename)\n",
    "        \n",
    "    plt.legend()"
   ]
  },
  {
   "cell_type": "markdown",
   "metadata": {},
   "source": [
    "# Average datasets"
   ]
  },
  {
   "cell_type": "code",
   "execution_count": 14,
   "metadata": {},
   "outputs": [
    {
     "data": {
      "application/vnd.jupyter.widget-view+json": {
       "model_id": "36d4c25bb9fd4881bb5d2769a7d6a8bc",
       "version_major": 2,
       "version_minor": 0
      },
      "text/plain": [
       "Canvas(toolbar=Toolbar(toolitems=[('Home', 'Reset original view', 'home', 'home'), ('Back', 'Back to previous …"
      ]
     },
     "metadata": {},
     "output_type": "display_data"
    },
    {
     "name": "stdout",
     "output_type": "stream",
     "text": [
      "Info: Saving result to files:\n",
      "Average: /tmp/test.txt:\n",
      "Normalized: /tmp/test_normalized.txt:\n",
      "Smoothed: /tmp/test_normalized_sgb.txt:\n"
     ]
    }
   ],
   "source": [
    "average(\n",
    "    spec_filename = '/data/bm20/inhouse/data_TOP/20221004_Vejar_U_Pu/Pu21_21', \n",
    "    scan_numbers = [4, 5, 6, 7], \n",
    "    export_base_filename = '/tmp/test'\n",
    ")"
   ]
  },
  {
   "cell_type": "markdown",
   "metadata": {},
   "source": [
    "# Compare datasets"
   ]
  },
  {
   "cell_type": "code",
   "execution_count": 18,
   "metadata": {},
   "outputs": [
    {
     "data": {
      "application/vnd.jupyter.widget-view+json": {
       "model_id": "38e8390de9b247f993cd5c238fa519b8",
       "version_major": 2,
       "version_minor": 0
      },
      "text/plain": [
       "Canvas(toolbar=Toolbar(toolitems=[('Home', 'Reset original view', 'home', 'home'), ('Back', 'Back to previous …"
      ]
     },
     "metadata": {},
     "output_type": "display_data"
    }
   ],
   "source": [
    "compare(\n",
    "    ['/tmp/test_normalized.txt',\n",
    "    '/tmp/test_normalized_sgb.txt']\n",
    ")"
   ]
  },
  {
   "cell_type": "code",
   "execution_count": null,
   "metadata": {},
   "outputs": [],
   "source": []
  },
  {
   "cell_type": "code",
   "execution_count": null,
   "metadata": {},
   "outputs": [],
   "source": []
  }
 ],
 "metadata": {
  "kernelspec": {
   "display_name": "Python 3",
   "language": "python",
   "name": "python3"
  },
  "language_info": {
   "codemirror_mode": {
    "name": "ipython",
    "version": 3
   },
   "file_extension": ".py",
   "mimetype": "text/x-python",
   "name": "python",
   "nbconvert_exporter": "python",
   "pygments_lexer": "ipython3",
   "version": "3.8.10"
  }
 },
 "nbformat": 4,
 "nbformat_minor": 4
}
