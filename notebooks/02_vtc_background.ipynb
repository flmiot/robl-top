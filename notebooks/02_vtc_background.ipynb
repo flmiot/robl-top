{
 "cells": [
  {
   "cell_type": "code",
   "execution_count": 3,
   "metadata": {},
   "outputs": [],
   "source": [
    "def voigt(x, sigma, gamma, x0, amplitude):\n",
    "    z = np.empty(x.shape, dtype=np.complex128)\n",
    "    z.real = x - x0\n",
    "    z.imag = gamma\n",
    "    return amplitude * np.real(wofz(z/ ( sigma * 1.41421356237))) / (sigma * 2.50662827463)\n",
    "\n",
    "def multi_voigt_2(number_of_f):\n",
    "    \"\"\" independent sigmas \"\"\"\n",
    "\n",
    "    def make_multiple_f(f, number):\n",
    "\n",
    "        def f_(x, *arguments):\n",
    "            this_length = number\n",
    "            arg_count = 4\n",
    "\n",
    "            if len(arguments) != this_length * arg_count:\n",
    "                fmt = 'Wrong number of arguments: Need x and {} parameters'\n",
    "                raise ValueError(fmt.format(this_length * arg_count))\n",
    "\n",
    "            y = np.zeros(len(x))\n",
    "            for i in range(this_length):\n",
    "                y += f(x, arguments[0::arg_count][i], arguments[1::arg_count][i],\n",
    "                    arguments[2::arg_count][i], arguments[3::arg_count][i])\n",
    "\n",
    "            return y\n",
    "\n",
    "        return f_\n",
    "\n",
    "    return make_multiple_f(voigt, number_of_f)"
   ]
  },
  {
   "cell_type": "code",
   "execution_count": null,
   "metadata": {},
   "outputs": [],
   "source": [
    "components = 4 \n",
    "    \n",
    "bounds = [\n",
    "    (),\n",
    "    ()\n",
    "]\n",
    "rng = np.random.default_rng()\n",
    "p = np.array([rng.random(1000) * (b-a) + a for (a,b) in zip(*bounds)]).T\n",
    "min_idx = np.argmin(\n",
    "        [np.power(model(fit_x, *px) - fit_y, 2).sum() for px in p])\n",
    "p0 = p[min_idx]\n",
    "\n",
    "# Fit\n",
    "popt, _ = optim.curve_fit(model, fit_x, fit_y, p0 = p0, bounds = bounds, max_nfev = 2000)"
   ]
  }
 ],
 "metadata": {
  "kernelspec": {
   "display_name": "Python 3",
   "language": "python",
   "name": "python3"
  },
  "language_info": {
   "codemirror_mode": {
    "name": "ipython",
    "version": 3
   },
   "file_extension": ".py",
   "mimetype": "text/x-python",
   "name": "python",
   "nbconvert_exporter": "python",
   "pygments_lexer": "ipython3",
   "version": "3.8.10"
  }
 },
 "nbformat": 4,
 "nbformat_minor": 4
}
